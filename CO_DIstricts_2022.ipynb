{
 "cells": [
  {
   "cell_type": "code",
   "execution_count": null,
   "id": "ebbc3df8",
   "metadata": {},
   "outputs": [],
   "source": [
    "import numpy as np\n",
    "import pandas as pd\n",
    "import geopandas as gpd\n",
    "import streamlit as st\n",
    "import folium as fl\n",
    "from folium.plugins import LocateControl, MousePosition\n",
    "from folium.features import LatLngPopup\n",
    "import streamlit_folium as sf\n",
    "import branca.colormap as cm\n",
    "import os as os\n",
    "#import wget\n",
    "import tarfile\n",
    "import datetime as dt\n",
    "import matplotlib.pyplot as plt\n",
    "#import Iframe\n",
    "import base64\n",
    "\n",
    "print('loaded 9 modules')"
   ]
  },
  {
   "cell_type": "code",
   "execution_count": null,
   "id": "7a64ccd6",
   "metadata": {},
   "outputs": [],
   "source": [
    "os.chdir('/Users/arbetter/Coding/Streamlit/ColoradoVoters')"
   ]
  },
  {
   "cell_type": "code",
   "execution_count": null,
   "id": "38171ba0",
   "metadata": {},
   "outputs": [],
   "source": [
    "co_counties_gdf = gpd.read_file('data/Colorado_County_Boundaries/Colorado_County_Boundaries.shp')\n",
    "\n",
    "co_counties_gdf.head(10)"
   ]
  },
  {
   "cell_type": "code",
   "execution_count": null,
   "id": "989ed465",
   "metadata": {},
   "outputs": [],
   "source": [
    "co_counties_gdf.crs"
   ]
  },
  {
   "cell_type": "code",
   "execution_count": null,
   "id": "d33a8930",
   "metadata": {
    "scrolled": true
   },
   "outputs": [],
   "source": [
    "congress_gdf = gpd.read_file('2021_Final_Approved_Congressional_Plan.zip')\n",
    "\n",
    "congress_gdf"
   ]
  },
  {
   "cell_type": "code",
   "execution_count": null,
   "id": "00b8eba4",
   "metadata": {},
   "outputs": [],
   "source": [
    "congress_gdf.to_crs('EPSG:4269',inplace=True)\n",
    "\n",
    "congress_gdf.crs"
   ]
  },
  {
   "cell_type": "code",
   "execution_count": null,
   "id": "542bcfb6",
   "metadata": {},
   "outputs": [],
   "source": [
    "co_house_gdf = gpd.read_file('2021_Final_Approved_House_Plan.zip')\n",
    "\n",
    "co_house_gdf"
   ]
  },
  {
   "cell_type": "code",
   "execution_count": null,
   "id": "08c143ee",
   "metadata": {},
   "outputs": [],
   "source": [
    "co_house_gdf.to_crs('EPSG:4269',inplace=True)\n",
    "\n",
    "co_house_gdf.crs"
   ]
  },
  {
   "cell_type": "code",
   "execution_count": null,
   "id": "5e597315",
   "metadata": {},
   "outputs": [],
   "source": [
    "co_senate_gdf = gpd.read_file('2021_Final_Approved_Senate_Plan_Errata_.zip')\n",
    "\n",
    "co_senate_gdf"
   ]
  },
  {
   "cell_type": "code",
   "execution_count": null,
   "id": "054555d5",
   "metadata": {},
   "outputs": [],
   "source": [
    "co_senate_gdf.to_crs('EPSG:4269',inplace=True)\n",
    "\n",
    "co_senate_gdf.crs"
   ]
  },
  {
   "cell_type": "code",
   "execution_count": null,
   "id": "78033925",
   "metadata": {
    "scrolled": false
   },
   "outputs": [],
   "source": []
  },
  {
   "cell_type": "code",
   "execution_count": null,
   "id": "183d0dec",
   "metadata": {},
   "outputs": [],
   "source": [
    "co_house_gdf = co_house_gdf[['DISTRICT','geometry']]\n",
    "co_senate_gdf = co_senate_gdf[['DISTRICT','geometry']]\n",
    "congress_gdf = congress_gdf[['DISTRICT','geometry']]\n",
    "co_counties_gdf = co_counties_gdf[['LABEL','geometry']]\n",
    "\n",
    "co_counties_gdf"
   ]
  },
  {
   "cell_type": "code",
   "execution_count": null,
   "id": "2ca808ab",
   "metadata": {},
   "outputs": [],
   "source": [
    "co_house_gdf = co_house_gdf.rename(columns={'DISTRICT':\"CO_HOUSE\"})\n",
    "co_senate_gdf = co_senate_gdf.rename(columns={'DISTRICT':'CO_SENATE'})\n",
    "congress_gdf = congress_gdf.rename(columns={'DISTRICT':'US_HOUSE'})\n",
    "co_counties_gdf = co_counties_gdf.rename(columns={'LABEL':'COUNTY'})\n",
    "                                \n",
    "\n",
    "co_house_gdf"
   ]
  },
  {
   "cell_type": "code",
   "execution_count": null,
   "id": "9d49a29b",
   "metadata": {},
   "outputs": [],
   "source": [
    "base_gdf = congress_gdf.copy(deep=True)\n",
    "\n",
    "#base_gdf = base_gdf[['geometry']]\n",
    "\n",
    "base_gdf"
   ]
  },
  {
   "cell_type": "code",
   "execution_count": null,
   "id": "61fb7a1d",
   "metadata": {
    "scrolled": true
   },
   "outputs": [],
   "source": [
    "#base1_gdf = base_gdf.sjoin(co_house_gdf,how='inner',predicate='contains')\n",
    "#base1_gdf.drop('index_right',axis=1,inplace=True)\n",
    "\n",
    "\n",
    "\n",
    "#base1_gdf.plot()"
   ]
  },
  {
   "cell_type": "code",
   "execution_count": null,
   "id": "533adc2b",
   "metadata": {
    "scrolled": true
   },
   "outputs": [],
   "source": [
    "#base2_gdf = co_senate_gdf.sjoin(base_gdf,how='inner',predicate='intersects')\n",
    "#base2_gdf.drop('index_right',axis=1,inplace=True)\n",
    "\n",
    "#base2_gdf"
   ]
  },
  {
   "cell_type": "code",
   "execution_count": null,
   "id": "0c4389c7",
   "metadata": {},
   "outputs": [],
   "source": [
    "base2_gdf = co_senate_gdf.overlay(base_gdf,how='union',keep_geom_type=True)\n",
    "\n",
    "base2_gdf"
   ]
  },
  {
   "cell_type": "code",
   "execution_count": null,
   "id": "aac06a50",
   "metadata": {},
   "outputs": [],
   "source": [
    "#base3_gdf = co_house_gdf.sjoin(base2_gdf,how='inner',predicate='intersects')\n",
    "#base3_gdf.drop('index_right',axis=1,inplace=True)\n",
    "\n",
    "#base3_gdf"
   ]
  },
  {
   "cell_type": "code",
   "execution_count": null,
   "id": "3a8e13d4",
   "metadata": {},
   "outputs": [],
   "source": [
    "base3_gdf = co_house_gdf.overlay(base2_gdf,how='union',keep_geom_type=True)\n",
    "\n",
    "base3_gdf"
   ]
  },
  {
   "cell_type": "code",
   "execution_count": null,
   "id": "146fbaa8",
   "metadata": {},
   "outputs": [],
   "source": [
    "base4_gdf = co_counties_gdf.overlay(base3_gdf,how='union',keep_geom_type=True)\n",
    "\n",
    "base4_gdf"
   ]
  },
  {
   "cell_type": "code",
   "execution_count": null,
   "id": "6a741055",
   "metadata": {
    "scrolled": false
   },
   "outputs": [],
   "source": [
    "#base4_gdf = co_counties_gdf.sjoin(base3_gdf,how='inner',predicate='intersects')\n",
    "#base4_gdf.drop('index_right',axis=1,inplace=True)\n",
    "\n",
    "#base4_gdf"
   ]
  },
  {
   "cell_type": "code",
   "execution_count": null,
   "id": "d0510267",
   "metadata": {},
   "outputs": [],
   "source": []
  },
  {
   "cell_type": "code",
   "execution_count": null,
   "id": "bbe30291",
   "metadata": {},
   "outputs": [],
   "source": []
  },
  {
   "cell_type": "code",
   "execution_count": null,
   "id": "9d0709da",
   "metadata": {},
   "outputs": [],
   "source": [
    "#base_gdf = base_gdf.dissolve(by='CO_HOUSE')\n",
    "\n",
    "#base_gdf"
   ]
  },
  {
   "cell_type": "code",
   "execution_count": null,
   "id": "5f6bf6c3",
   "metadata": {},
   "outputs": [],
   "source": [
    "#create a b/w map of CO\n",
    "colorado_districtmap = fl.Map(location=[co_counties_gdf.centroid.y.mean(),\n",
    "                              co_counties_gdf.centroid.x.mean()],\n",
    "                zoom_start=7,tiles=None, control_scale=True)\n",
    "fl.TileLayer('Stamen Terrain',name='BackGround',control=False).add_to(colorado_districtmap)"
   ]
  },
  {
   "cell_type": "code",
   "execution_count": null,
   "id": "8c552394",
   "metadata": {},
   "outputs": [],
   "source": [
    "fl.GeoJson(co_counties_gdf,  control=True, name = 'CO COUNTIES',\n",
    "               style_function = lambda x: {\"weight\":3, \n",
    "                            'color':'black',\n",
    "                            'fillColor':'transparent',\n",
    "#                            'fillColor':colormap_party(x['properties']['Max']), \n",
    "                            'fillOpacity':0.1\n",
    "               },\n",
    "           \n",
    "#               highlight_function = lambda x: {'fillColor': '#000000', \n",
    "#                                'color':'#000000', \n",
    "#                                'fillOpacity': 0.25, \n",
    "#                                'weight': 0.1\n",
    "#               },\n",
    "                \n",
    "           \n",
    "#               tooltip=fl.GeoJsonTooltip(\n",
    "#                   fields=['COUNTY'],\n",
    "#                   aliases=['County:'],\n",
    "#                   localize=True\n",
    "#              ),\n",
    "           \n",
    "              ).add_to(colorado_districtmap)"
   ]
  },
  {
   "cell_type": "code",
   "execution_count": null,
   "id": "a8cd9fa1",
   "metadata": {},
   "outputs": [],
   "source": [
    "fl.GeoJson(co_house_gdf,  control=True, name='CO HOUSE',\n",
    "               style_function = lambda x: {\"weight\":3, \n",
    "                            'color':'red',\n",
    "                            'fillColor':'transparent',\n",
    "#                            'fillColor':colormap_party(x['properties']['Max']), \n",
    "                            'fillOpacity':0.1\n",
    "               },\n",
    "           \n",
    "#               highlight_function = lambda x: {'fillColor': '#000000', \n",
    "#                                'color':'#000000', \n",
    "#                                'fillOpacity': 0.25, \n",
    "#                                'weight': 0.1\n",
    "#               },\n",
    "                \n",
    "           \n",
    "#               tooltip=fl.GeoJsonTooltip(\n",
    "#                   fields=['CO_HOUSE'],\n",
    "#                   aliases=['CO House:'],\n",
    "#                   localize=True\n",
    "#              ),\n",
    "           \n",
    "              ).add_to(colorado_districtmap)"
   ]
  },
  {
   "cell_type": "code",
   "execution_count": null,
   "id": "7261542b",
   "metadata": {},
   "outputs": [],
   "source": [
    "fl.GeoJson(co_senate_gdf,  control=True, name='CO SENATE',\n",
    "               style_function = lambda x: {\"weight\":3, \n",
    "                            'color':'blue',\n",
    "                            'fillColor':'transparent',\n",
    "#                            'fillColor':colormap_party(x['properties']['Max']), \n",
    "                            'fillOpacity':0.1\n",
    "               },\n",
    "           \n",
    "#               highlight_function = lambda x: {'fillColor': '#000000', \n",
    "#                                'color':'#000000', \n",
    "#                                'fillOpacity': 0.25, \n",
    "#                                'weight': 0.1\n",
    "#               },\n",
    "                \n",
    "           \n",
    "#               tooltip=fl.GeoJsonTooltip(\n",
    "#                   fields=['CO_SENATE'],\n",
    "#                   aliases=['CO Senate:'],\n",
    "#                   localize=True\n",
    "#              ),\n",
    "           \n",
    "              ).add_to(colorado_districtmap)"
   ]
  },
  {
   "cell_type": "code",
   "execution_count": null,
   "id": "e1616c69",
   "metadata": {},
   "outputs": [],
   "source": [
    "fl.GeoJson(congress_gdf,  control=True, name='US CONGRESS',\n",
    "               style_function = lambda x: {\"weight\":3, \n",
    "                            'color':'purple',\n",
    "                            'fillColor':'transparent',\n",
    "#                            'fillColor':colormap_party(x['properties']['Max']), \n",
    "                            'fillOpacity':0.1\n",
    "               },\n",
    "           \n",
    "\n",
    "#           highlight_function = lambda x: {'fillColor': '#000000', \n",
    "#                                'color':'#000000', \n",
    "#                                'fillOpacity': 0.25, \n",
    "#                                'weight': 0.1\n",
    "#               },\n",
    "                \n",
    "           \n",
    "#               tooltip=fl.GeoJsonTooltip(\n",
    "#                   fields=['US_HOUSE'],\n",
    "#                   aliases=['US Congress:'],\n",
    "#                   localize=True\n",
    "#              ),\n",
    "           \n",
    "              ).add_to(colorado_districtmap)"
   ]
  },
  {
   "cell_type": "code",
   "execution_count": null,
   "id": "f69a4403",
   "metadata": {},
   "outputs": [],
   "source": [
    "alldistricts = fl.GeoJson(base4_gdf,  control=False, \n",
    "                          style_function = lambda x: {\"weight\":1, \n",
    "                            'color':'grey',\n",
    "                            'fillColor':'transparent',\n",
    "#                            'fillColor':colormap_party(x['properties']['Max']), \n",
    "                            'fillOpacity':0.1\n",
    "               },\n",
    "           \n",
    "               highlight_function = lambda x: {'fillColor': '#000000', \n",
    "                                'color':'#000000', \n",
    "                                'fillOpacity': 0.25, \n",
    "                                'weight': 0.1\n",
    "               },\n",
    "                \n",
    "           \n",
    "               tooltip=fl.GeoJsonTooltip(\n",
    "\n",
    "                   fields=['COUNTY','US_HOUSE','CO_HOUSE','CO_SENATE'],\n",
    "                   aliases=['County:','Congress','CO House','CO Senate'],\n",
    "#                   fields=['US_HOUSE','CO_HOUSE','CO_SENATE'],\n",
    "#                   aliases=['US Congress:','CO House:','CO Senate:'],\n",
    "                   localize=True\n",
    "              ),\n",
    "           \n",
    "              )\n",
    "\n",
    "colorado_districtmap.add_child(alldistricts)\n",
    "colorado_districtmap.keep_in_front(alldistricts)\n"
   ]
  },
  {
   "cell_type": "code",
   "execution_count": null,
   "id": "e8fb62ef",
   "metadata": {
    "scrolled": false
   },
   "outputs": [],
   "source": [
    "LocateControl(auto_start=True).add_to(colorado_districtmap)\n",
    "\n",
    "colorado_districtmap.add_child(MousePosition())\n",
    "\n",
    "colorado_districtmap.add_child(LatLngPopup())\n",
    "\n",
    "fl.LayerControl(collapsed=False).add_to(colorado_districtmap)\n",
    "\n",
    "colorado_districtmap"
   ]
  },
  {
   "cell_type": "code",
   "execution_count": null,
   "id": "8010c62d",
   "metadata": {},
   "outputs": [],
   "source": [
    "colorado_districtmap.save('colorado_districtmap.html')"
   ]
  },
  {
   "cell_type": "code",
   "execution_count": null,
   "id": "baf8b4e7",
   "metadata": {},
   "outputs": [],
   "source": []
  }
 ],
 "metadata": {
  "kernelspec": {
   "display_name": "Python 3 (ipykernel)",
   "language": "python",
   "name": "python3"
  },
  "language_info": {
   "codemirror_mode": {
    "name": "ipython",
    "version": 3
   },
   "file_extension": ".py",
   "mimetype": "text/x-python",
   "name": "python",
   "nbconvert_exporter": "python",
   "pygments_lexer": "ipython3",
   "version": "3.9.7"
  }
 },
 "nbformat": 4,
 "nbformat_minor": 5
}
